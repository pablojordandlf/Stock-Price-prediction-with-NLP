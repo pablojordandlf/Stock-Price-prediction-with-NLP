{
 "cells": [
  {
   "cell_type": "code",
   "execution_count": 1,
   "metadata": {},
   "outputs": [],
   "source": [
    "import pandas as pd\n",
    "import matplotlib.pyplot as plt\n",
    "import numpy as np"
   ]
  },
  {
   "cell_type": "code",
   "execution_count": 2,
   "metadata": {},
   "outputs": [],
   "source": [
    "df = pd.read_csv(\"..\\Data\\df_with_mod1 and emotion.csv\")\n",
    "df.drop([\"Unnamed: 0\", \"resumen\", \"timing_concat\"], axis = 1, inplace = True)\n",
    "df = df[[c for c in df if c not in ['CLASE']] + ['CLASE']]\n",
    "df.emotions = df.emotions.astype(object)\n",
    "#df.set_index('timing_concat', inplace=True)"
   ]
  },
  {
   "cell_type": "code",
   "execution_count": 3,
   "metadata": {},
   "outputs": [],
   "source": [
    "df.drop([\"prob_mod1\"], axis = 1, inplace = True)"
   ]
  },
  {
   "cell_type": "code",
   "execution_count": 4,
   "metadata": {},
   "outputs": [],
   "source": [
    "dfe = pd.get_dummies(df[\"emotions\"])"
   ]
  },
  {
   "cell_type": "code",
   "execution_count": 5,
   "metadata": {},
   "outputs": [],
   "source": [
    "df.drop([\"emotions\"], axis = 1, inplace = True)\n",
    "frames = [df, dfe]\n",
    "df = pd.concat(frames, axis = 1)"
   ]
  },
  {
   "cell_type": "code",
   "execution_count": 6,
   "metadata": {},
   "outputs": [
    {
     "data": {
      "text/html": [
       "<div>\n",
       "<style scoped>\n",
       "    .dataframe tbody tr th:only-of-type {\n",
       "        vertical-align: middle;\n",
       "    }\n",
       "\n",
       "    .dataframe tbody tr th {\n",
       "        vertical-align: top;\n",
       "    }\n",
       "\n",
       "    .dataframe thead th {\n",
       "        text-align: right;\n",
       "    }\n",
       "</style>\n",
       "<table border=\"1\" class=\"dataframe\">\n",
       "  <thead>\n",
       "    <tr style=\"text-align: right;\">\n",
       "      <th></th>\n",
       "      <th>tweet_count</th>\n",
       "      <th>length</th>\n",
       "      <th>n_mentions</th>\n",
       "      <th>elon_mentions</th>\n",
       "      <th>tesla_mentions</th>\n",
       "      <th>link</th>\n",
       "      <th>RT</th>\n",
       "      <th>CLASE</th>\n",
       "      <th>0</th>\n",
       "      <th>1</th>\n",
       "      <th>2</th>\n",
       "      <th>3</th>\n",
       "      <th>4</th>\n",
       "      <th>5</th>\n",
       "    </tr>\n",
       "  </thead>\n",
       "  <tbody>\n",
       "    <tr>\n",
       "      <th>0</th>\n",
       "      <td>155</td>\n",
       "      <td>113.402685</td>\n",
       "      <td>304</td>\n",
       "      <td>12</td>\n",
       "      <td>41</td>\n",
       "      <td>90</td>\n",
       "      <td>155</td>\n",
       "      <td>0</td>\n",
       "      <td>0</td>\n",
       "      <td>0</td>\n",
       "      <td>0</td>\n",
       "      <td>0</td>\n",
       "      <td>0</td>\n",
       "      <td>1</td>\n",
       "    </tr>\n",
       "    <tr>\n",
       "      <th>1</th>\n",
       "      <td>207</td>\n",
       "      <td>122.841026</td>\n",
       "      <td>300</td>\n",
       "      <td>15</td>\n",
       "      <td>41</td>\n",
       "      <td>148</td>\n",
       "      <td>207</td>\n",
       "      <td>0</td>\n",
       "      <td>0</td>\n",
       "      <td>0</td>\n",
       "      <td>0</td>\n",
       "      <td>0</td>\n",
       "      <td>0</td>\n",
       "      <td>1</td>\n",
       "    </tr>\n",
       "    <tr>\n",
       "      <th>2</th>\n",
       "      <td>198</td>\n",
       "      <td>121.530928</td>\n",
       "      <td>267</td>\n",
       "      <td>14</td>\n",
       "      <td>39</td>\n",
       "      <td>130</td>\n",
       "      <td>198</td>\n",
       "      <td>1</td>\n",
       "      <td>0</td>\n",
       "      <td>0</td>\n",
       "      <td>0</td>\n",
       "      <td>0</td>\n",
       "      <td>0</td>\n",
       "      <td>1</td>\n",
       "    </tr>\n",
       "    <tr>\n",
       "      <th>3</th>\n",
       "      <td>197</td>\n",
       "      <td>117.746032</td>\n",
       "      <td>218</td>\n",
       "      <td>15</td>\n",
       "      <td>37</td>\n",
       "      <td>132</td>\n",
       "      <td>197</td>\n",
       "      <td>1</td>\n",
       "      <td>0</td>\n",
       "      <td>0</td>\n",
       "      <td>0</td>\n",
       "      <td>0</td>\n",
       "      <td>0</td>\n",
       "      <td>1</td>\n",
       "    </tr>\n",
       "    <tr>\n",
       "      <th>4</th>\n",
       "      <td>177</td>\n",
       "      <td>119.710059</td>\n",
       "      <td>257</td>\n",
       "      <td>21</td>\n",
       "      <td>28</td>\n",
       "      <td>109</td>\n",
       "      <td>177</td>\n",
       "      <td>1</td>\n",
       "      <td>0</td>\n",
       "      <td>0</td>\n",
       "      <td>0</td>\n",
       "      <td>0</td>\n",
       "      <td>0</td>\n",
       "      <td>1</td>\n",
       "    </tr>\n",
       "  </tbody>\n",
       "</table>\n",
       "</div>"
      ],
      "text/plain": [
       "   tweet_count      length  n_mentions  elon_mentions  tesla_mentions  link  \\\n",
       "0          155  113.402685         304             12              41    90   \n",
       "1          207  122.841026         300             15              41   148   \n",
       "2          198  121.530928         267             14              39   130   \n",
       "3          197  117.746032         218             15              37   132   \n",
       "4          177  119.710059         257             21              28   109   \n",
       "\n",
       "    RT  CLASE  0  1  2  3  4  5  \n",
       "0  155      0  0  0  0  0  0  1  \n",
       "1  207      0  0  0  0  0  0  1  \n",
       "2  198      1  0  0  0  0  0  1  \n",
       "3  197      1  0  0  0  0  0  1  \n",
       "4  177      1  0  0  0  0  0  1  "
      ]
     },
     "execution_count": 6,
     "metadata": {},
     "output_type": "execute_result"
    }
   ],
   "source": [
    "df.head()"
   ]
  },
  {
   "cell_type": "code",
   "execution_count": 7,
   "metadata": {},
   "outputs": [
    {
     "name": "stdout",
     "output_type": "stream",
     "text": [
      "<class 'pandas.core.frame.DataFrame'>\n",
      "RangeIndex: 2961 entries, 0 to 2960\n",
      "Data columns (total 14 columns):\n",
      "tweet_count       2961 non-null int64\n",
      "length            2961 non-null float64\n",
      "n_mentions        2961 non-null int64\n",
      "elon_mentions     2961 non-null int64\n",
      "tesla_mentions    2961 non-null int64\n",
      "link              2961 non-null int64\n",
      "RT                2961 non-null int64\n",
      "CLASE             2961 non-null int64\n",
      "0                 2961 non-null uint8\n",
      "1                 2961 non-null uint8\n",
      "2                 2961 non-null uint8\n",
      "3                 2961 non-null uint8\n",
      "4                 2961 non-null uint8\n",
      "5                 2961 non-null uint8\n",
      "dtypes: float64(1), int64(7), uint8(6)\n",
      "memory usage: 202.5 KB\n"
     ]
    }
   ],
   "source": [
    "df.info()"
   ]
  },
  {
   "cell_type": "code",
   "execution_count": 8,
   "metadata": {},
   "outputs": [
    {
     "name": "stdout",
     "output_type": "stream",
     "text": [
      "Index([   'tweet_count',         'length',     'n_mentions',  'elon_mentions',\n",
      "       'tesla_mentions',           'link',             'RT',          'CLASE',\n",
      "                      0,                1,                2,                3,\n",
      "                      4,                5],\n",
      "      dtype='object')\n"
     ]
    }
   ],
   "source": [
    "df1 = pd.read_csv(\"..\\Data\\df_with_mod1_bis.csv\")\n",
    "print(df.columns)"
   ]
  },
  {
   "cell_type": "code",
   "execution_count": 9,
   "metadata": {},
   "outputs": [
    {
     "data": {
      "text/html": [
       "<div>\n",
       "<style scoped>\n",
       "    .dataframe tbody tr th:only-of-type {\n",
       "        vertical-align: middle;\n",
       "    }\n",
       "\n",
       "    .dataframe tbody tr th {\n",
       "        vertical-align: top;\n",
       "    }\n",
       "\n",
       "    .dataframe thead th {\n",
       "        text-align: right;\n",
       "    }\n",
       "</style>\n",
       "<table border=\"1\" class=\"dataframe\">\n",
       "  <thead>\n",
       "    <tr style=\"text-align: right;\">\n",
       "      <th></th>\n",
       "      <th>open</th>\n",
       "      <th>low</th>\n",
       "      <th>high</th>\n",
       "      <th>volume</th>\n",
       "    </tr>\n",
       "  </thead>\n",
       "  <tbody>\n",
       "    <tr>\n",
       "      <th>0</th>\n",
       "      <td>229.238</td>\n",
       "      <td>226.557</td>\n",
       "      <td>229.667</td>\n",
       "      <td>0.0997</td>\n",
       "    </tr>\n",
       "    <tr>\n",
       "      <th>1</th>\n",
       "      <td>226.898</td>\n",
       "      <td>225.227</td>\n",
       "      <td>227.328</td>\n",
       "      <td>0.1783</td>\n",
       "    </tr>\n",
       "    <tr>\n",
       "      <th>2</th>\n",
       "      <td>226.927</td>\n",
       "      <td>226.207</td>\n",
       "      <td>227.888</td>\n",
       "      <td>0.1280</td>\n",
       "    </tr>\n",
       "    <tr>\n",
       "      <th>3</th>\n",
       "      <td>227.538</td>\n",
       "      <td>227.267</td>\n",
       "      <td>228.928</td>\n",
       "      <td>0.0927</td>\n",
       "    </tr>\n",
       "    <tr>\n",
       "      <th>4</th>\n",
       "      <td>227.597</td>\n",
       "      <td>226.867</td>\n",
       "      <td>231.408</td>\n",
       "      <td>0.1421</td>\n",
       "    </tr>\n",
       "  </tbody>\n",
       "</table>\n",
       "</div>"
      ],
      "text/plain": [
       "      open      low     high  volume\n",
       "0  229.238  226.557  229.667  0.0997\n",
       "1  226.898  225.227  227.328  0.1783\n",
       "2  226.927  226.207  227.888  0.1280\n",
       "3  227.538  227.267  228.928  0.0927\n",
       "4  227.597  226.867  231.408  0.1421"
      ]
     },
     "execution_count": 9,
     "metadata": {},
     "output_type": "execute_result"
    }
   ],
   "source": [
    "df1.drop(['Unnamed: 0', 'timing_concat', 'tweet_count', 'length', 'n_mentions',\n",
    "       'elon_mentions', 'tesla_mentions', 'link', 'RT', 'resumen', 'CLASE', 'label_predict'], axis = 1, inplace = True)\n",
    "df1.head()"
   ]
  },
  {
   "cell_type": "code",
   "execution_count": 10,
   "metadata": {},
   "outputs": [
    {
     "name": "stdout",
     "output_type": "stream",
     "text": [
      "['open', 'low', 'high', 'volume', 'tweet_count', 'length', 'n_mentions', 'elon_mentions', 'tesla_mentions', 'link', 'RT', 'CLASE', 0, 1, 2, 3, 4, 5]\n"
     ]
    }
   ],
   "source": [
    "columnas= []\n",
    "\n",
    "for i in range(len(df1.columns)):\n",
    "    columnas.append(df1.columns[i])\n",
    "\n",
    "for i in range(len(df.columns)):\n",
    "    columnas.append(df.columns[i])\n",
    "print(columnas)"
   ]
  },
  {
   "cell_type": "code",
   "execution_count": 11,
   "metadata": {},
   "outputs": [
    {
     "data": {
      "text/html": [
       "<div>\n",
       "<style scoped>\n",
       "    .dataframe tbody tr th:only-of-type {\n",
       "        vertical-align: middle;\n",
       "    }\n",
       "\n",
       "    .dataframe tbody tr th {\n",
       "        vertical-align: top;\n",
       "    }\n",
       "\n",
       "    .dataframe thead th {\n",
       "        text-align: right;\n",
       "    }\n",
       "</style>\n",
       "<table border=\"1\" class=\"dataframe\">\n",
       "  <thead>\n",
       "    <tr style=\"text-align: right;\">\n",
       "      <th></th>\n",
       "      <th>open</th>\n",
       "      <th>low</th>\n",
       "      <th>high</th>\n",
       "      <th>volume</th>\n",
       "      <th>tweet_count</th>\n",
       "      <th>length</th>\n",
       "      <th>n_mentions</th>\n",
       "      <th>elon_mentions</th>\n",
       "      <th>tesla_mentions</th>\n",
       "      <th>link</th>\n",
       "      <th>RT</th>\n",
       "      <th>CLASE</th>\n",
       "      <th>0</th>\n",
       "      <th>1</th>\n",
       "      <th>2</th>\n",
       "      <th>3</th>\n",
       "      <th>4</th>\n",
       "      <th>5</th>\n",
       "    </tr>\n",
       "  </thead>\n",
       "  <tbody>\n",
       "    <tr>\n",
       "      <th>0</th>\n",
       "      <td>229.238</td>\n",
       "      <td>226.557</td>\n",
       "      <td>229.667</td>\n",
       "      <td>0.0997</td>\n",
       "      <td>155</td>\n",
       "      <td>113.402685</td>\n",
       "      <td>304</td>\n",
       "      <td>12</td>\n",
       "      <td>41</td>\n",
       "      <td>90</td>\n",
       "      <td>155</td>\n",
       "      <td>0</td>\n",
       "      <td>0</td>\n",
       "      <td>0</td>\n",
       "      <td>0</td>\n",
       "      <td>0</td>\n",
       "      <td>0</td>\n",
       "      <td>1</td>\n",
       "    </tr>\n",
       "    <tr>\n",
       "      <th>1</th>\n",
       "      <td>226.898</td>\n",
       "      <td>225.227</td>\n",
       "      <td>227.328</td>\n",
       "      <td>0.1783</td>\n",
       "      <td>207</td>\n",
       "      <td>122.841026</td>\n",
       "      <td>300</td>\n",
       "      <td>15</td>\n",
       "      <td>41</td>\n",
       "      <td>148</td>\n",
       "      <td>207</td>\n",
       "      <td>0</td>\n",
       "      <td>0</td>\n",
       "      <td>0</td>\n",
       "      <td>0</td>\n",
       "      <td>0</td>\n",
       "      <td>0</td>\n",
       "      <td>1</td>\n",
       "    </tr>\n",
       "    <tr>\n",
       "      <th>2</th>\n",
       "      <td>226.927</td>\n",
       "      <td>226.207</td>\n",
       "      <td>227.888</td>\n",
       "      <td>0.1280</td>\n",
       "      <td>198</td>\n",
       "      <td>121.530928</td>\n",
       "      <td>267</td>\n",
       "      <td>14</td>\n",
       "      <td>39</td>\n",
       "      <td>130</td>\n",
       "      <td>198</td>\n",
       "      <td>1</td>\n",
       "      <td>0</td>\n",
       "      <td>0</td>\n",
       "      <td>0</td>\n",
       "      <td>0</td>\n",
       "      <td>0</td>\n",
       "      <td>1</td>\n",
       "    </tr>\n",
       "    <tr>\n",
       "      <th>3</th>\n",
       "      <td>227.538</td>\n",
       "      <td>227.267</td>\n",
       "      <td>228.928</td>\n",
       "      <td>0.0927</td>\n",
       "      <td>197</td>\n",
       "      <td>117.746032</td>\n",
       "      <td>218</td>\n",
       "      <td>15</td>\n",
       "      <td>37</td>\n",
       "      <td>132</td>\n",
       "      <td>197</td>\n",
       "      <td>1</td>\n",
       "      <td>0</td>\n",
       "      <td>0</td>\n",
       "      <td>0</td>\n",
       "      <td>0</td>\n",
       "      <td>0</td>\n",
       "      <td>1</td>\n",
       "    </tr>\n",
       "    <tr>\n",
       "      <th>4</th>\n",
       "      <td>227.597</td>\n",
       "      <td>226.867</td>\n",
       "      <td>231.408</td>\n",
       "      <td>0.1421</td>\n",
       "      <td>177</td>\n",
       "      <td>119.710059</td>\n",
       "      <td>257</td>\n",
       "      <td>21</td>\n",
       "      <td>28</td>\n",
       "      <td>109</td>\n",
       "      <td>177</td>\n",
       "      <td>1</td>\n",
       "      <td>0</td>\n",
       "      <td>0</td>\n",
       "      <td>0</td>\n",
       "      <td>0</td>\n",
       "      <td>0</td>\n",
       "      <td>1</td>\n",
       "    </tr>\n",
       "  </tbody>\n",
       "</table>\n",
       "</div>"
      ],
      "text/plain": [
       "      open      low     high  volume  tweet_count      length  n_mentions  \\\n",
       "0  229.238  226.557  229.667  0.0997          155  113.402685         304   \n",
       "1  226.898  225.227  227.328  0.1783          207  122.841026         300   \n",
       "2  226.927  226.207  227.888  0.1280          198  121.530928         267   \n",
       "3  227.538  227.267  228.928  0.0927          197  117.746032         218   \n",
       "4  227.597  226.867  231.408  0.1421          177  119.710059         257   \n",
       "\n",
       "   elon_mentions  tesla_mentions  link   RT  CLASE  0  1  2  3  4  5  \n",
       "0             12              41    90  155      0  0  0  0  0  0  1  \n",
       "1             15              41   148  207      0  0  0  0  0  0  1  \n",
       "2             14              39   130  198      1  0  0  0  0  0  1  \n",
       "3             15              37   132  197      1  0  0  0  0  0  1  \n",
       "4             21              28   109  177      1  0  0  0  0  0  1  "
      ]
     },
     "execution_count": 11,
     "metadata": {},
     "output_type": "execute_result"
    }
   ],
   "source": [
    "df = pd.concat( [df1, df], axis=1, ignore_index = True) \n",
    "df.columns = columnas\n",
    "df.head()"
   ]
  },
  {
   "cell_type": "code",
   "execution_count": 12,
   "metadata": {},
   "outputs": [
    {
     "data": {
      "text/html": [
       "<div>\n",
       "<style scoped>\n",
       "    .dataframe tbody tr th:only-of-type {\n",
       "        vertical-align: middle;\n",
       "    }\n",
       "\n",
       "    .dataframe tbody tr th {\n",
       "        vertical-align: top;\n",
       "    }\n",
       "\n",
       "    .dataframe thead th {\n",
       "        text-align: right;\n",
       "    }\n",
       "</style>\n",
       "<table border=\"1\" class=\"dataframe\">\n",
       "  <thead>\n",
       "    <tr style=\"text-align: right;\">\n",
       "      <th></th>\n",
       "      <th>open</th>\n",
       "      <th>low</th>\n",
       "      <th>high</th>\n",
       "      <th>volume</th>\n",
       "      <th>tweet_count</th>\n",
       "      <th>length</th>\n",
       "      <th>n_mentions</th>\n",
       "      <th>elon_mentions</th>\n",
       "      <th>tesla_mentions</th>\n",
       "      <th>link</th>\n",
       "      <th>RT</th>\n",
       "      <th>0</th>\n",
       "      <th>1</th>\n",
       "      <th>2</th>\n",
       "      <th>3</th>\n",
       "      <th>4</th>\n",
       "      <th>5</th>\n",
       "      <th>CLASE</th>\n",
       "    </tr>\n",
       "  </thead>\n",
       "  <tbody>\n",
       "    <tr>\n",
       "      <th>0</th>\n",
       "      <td>229.238</td>\n",
       "      <td>226.557</td>\n",
       "      <td>229.667</td>\n",
       "      <td>0.0997</td>\n",
       "      <td>155</td>\n",
       "      <td>113.402685</td>\n",
       "      <td>304</td>\n",
       "      <td>12</td>\n",
       "      <td>41</td>\n",
       "      <td>90</td>\n",
       "      <td>155</td>\n",
       "      <td>0</td>\n",
       "      <td>0</td>\n",
       "      <td>0</td>\n",
       "      <td>0</td>\n",
       "      <td>0</td>\n",
       "      <td>1</td>\n",
       "      <td>0</td>\n",
       "    </tr>\n",
       "    <tr>\n",
       "      <th>1</th>\n",
       "      <td>226.898</td>\n",
       "      <td>225.227</td>\n",
       "      <td>227.328</td>\n",
       "      <td>0.1783</td>\n",
       "      <td>207</td>\n",
       "      <td>122.841026</td>\n",
       "      <td>300</td>\n",
       "      <td>15</td>\n",
       "      <td>41</td>\n",
       "      <td>148</td>\n",
       "      <td>207</td>\n",
       "      <td>0</td>\n",
       "      <td>0</td>\n",
       "      <td>0</td>\n",
       "      <td>0</td>\n",
       "      <td>0</td>\n",
       "      <td>1</td>\n",
       "      <td>0</td>\n",
       "    </tr>\n",
       "    <tr>\n",
       "      <th>2</th>\n",
       "      <td>226.927</td>\n",
       "      <td>226.207</td>\n",
       "      <td>227.888</td>\n",
       "      <td>0.1280</td>\n",
       "      <td>198</td>\n",
       "      <td>121.530928</td>\n",
       "      <td>267</td>\n",
       "      <td>14</td>\n",
       "      <td>39</td>\n",
       "      <td>130</td>\n",
       "      <td>198</td>\n",
       "      <td>0</td>\n",
       "      <td>0</td>\n",
       "      <td>0</td>\n",
       "      <td>0</td>\n",
       "      <td>0</td>\n",
       "      <td>1</td>\n",
       "      <td>1</td>\n",
       "    </tr>\n",
       "    <tr>\n",
       "      <th>3</th>\n",
       "      <td>227.538</td>\n",
       "      <td>227.267</td>\n",
       "      <td>228.928</td>\n",
       "      <td>0.0927</td>\n",
       "      <td>197</td>\n",
       "      <td>117.746032</td>\n",
       "      <td>218</td>\n",
       "      <td>15</td>\n",
       "      <td>37</td>\n",
       "      <td>132</td>\n",
       "      <td>197</td>\n",
       "      <td>0</td>\n",
       "      <td>0</td>\n",
       "      <td>0</td>\n",
       "      <td>0</td>\n",
       "      <td>0</td>\n",
       "      <td>1</td>\n",
       "      <td>1</td>\n",
       "    </tr>\n",
       "    <tr>\n",
       "      <th>4</th>\n",
       "      <td>227.597</td>\n",
       "      <td>226.867</td>\n",
       "      <td>231.408</td>\n",
       "      <td>0.1421</td>\n",
       "      <td>177</td>\n",
       "      <td>119.710059</td>\n",
       "      <td>257</td>\n",
       "      <td>21</td>\n",
       "      <td>28</td>\n",
       "      <td>109</td>\n",
       "      <td>177</td>\n",
       "      <td>0</td>\n",
       "      <td>0</td>\n",
       "      <td>0</td>\n",
       "      <td>0</td>\n",
       "      <td>0</td>\n",
       "      <td>1</td>\n",
       "      <td>1</td>\n",
       "    </tr>\n",
       "  </tbody>\n",
       "</table>\n",
       "</div>"
      ],
      "text/plain": [
       "      open      low     high  volume  tweet_count      length  n_mentions  \\\n",
       "0  229.238  226.557  229.667  0.0997          155  113.402685         304   \n",
       "1  226.898  225.227  227.328  0.1783          207  122.841026         300   \n",
       "2  226.927  226.207  227.888  0.1280          198  121.530928         267   \n",
       "3  227.538  227.267  228.928  0.0927          197  117.746032         218   \n",
       "4  227.597  226.867  231.408  0.1421          177  119.710059         257   \n",
       "\n",
       "   elon_mentions  tesla_mentions  link   RT  0  1  2  3  4  5  CLASE  \n",
       "0             12              41    90  155  0  0  0  0  0  1      0  \n",
       "1             15              41   148  207  0  0  0  0  0  1      0  \n",
       "2             14              39   130  198  0  0  0  0  0  1      1  \n",
       "3             15              37   132  197  0  0  0  0  0  1      1  \n",
       "4             21              28   109  177  0  0  0  0  0  1      1  "
      ]
     },
     "execution_count": 12,
     "metadata": {},
     "output_type": "execute_result"
    }
   ],
   "source": [
    "df = df[[c for c in df if c not in ['CLASE']] + ['CLASE']]\n",
    "df.head()"
   ]
  },
  {
   "cell_type": "code",
   "execution_count": 13,
   "metadata": {},
   "outputs": [],
   "source": [
    "from sklearn.preprocessing import StandardScaler\n",
    "std = StandardScaler()"
   ]
  },
  {
   "cell_type": "code",
   "execution_count": 14,
   "metadata": {},
   "outputs": [
    {
     "name": "stdout",
     "output_type": "stream",
     "text": [
      "[0, 1, 2, 3, 4, 5, 'RT', 'elon_mentions', 'high', 'length', 'link', 'low', 'n_mentions', 'open', 'tesla_mentions', 'tweet_count', 'volume']\n"
     ]
    }
   ],
   "source": [
    "features = df.columns.difference(['CLASE']).tolist()\n",
    "print(features)\n",
    "scaled = std.fit_transform(df[features])"
   ]
  },
  {
   "cell_type": "code",
   "execution_count": 15,
   "metadata": {},
   "outputs": [
    {
     "data": {
      "text/plain": [
       "(2961, 17)"
      ]
     },
     "execution_count": 15,
     "metadata": {},
     "output_type": "execute_result"
    }
   ],
   "source": [
    "scaled.shape"
   ]
  },
  {
   "cell_type": "code",
   "execution_count": 16,
   "metadata": {},
   "outputs": [
    {
     "data": {
      "text/html": [
       "<div>\n",
       "<style scoped>\n",
       "    .dataframe tbody tr th:only-of-type {\n",
       "        vertical-align: middle;\n",
       "    }\n",
       "\n",
       "    .dataframe tbody tr th {\n",
       "        vertical-align: top;\n",
       "    }\n",
       "\n",
       "    .dataframe thead th {\n",
       "        text-align: right;\n",
       "    }\n",
       "</style>\n",
       "<table border=\"1\" class=\"dataframe\">\n",
       "  <thead>\n",
       "    <tr style=\"text-align: right;\">\n",
       "      <th></th>\n",
       "      <th>0</th>\n",
       "      <th>1</th>\n",
       "      <th>2</th>\n",
       "      <th>3</th>\n",
       "      <th>4</th>\n",
       "      <th>5</th>\n",
       "      <th>RT</th>\n",
       "      <th>elon_mentions</th>\n",
       "      <th>high</th>\n",
       "      <th>length</th>\n",
       "      <th>link</th>\n",
       "      <th>low</th>\n",
       "      <th>n_mentions</th>\n",
       "      <th>open</th>\n",
       "      <th>tesla_mentions</th>\n",
       "      <th>tweet_count</th>\n",
       "      <th>volume</th>\n",
       "    </tr>\n",
       "  </thead>\n",
       "  <tbody>\n",
       "    <tr>\n",
       "      <th>0</th>\n",
       "      <td>-0.404299</td>\n",
       "      <td>-0.235828</td>\n",
       "      <td>-0.1401</td>\n",
       "      <td>-0.124226</td>\n",
       "      <td>-0.115529</td>\n",
       "      <td>0.563179</td>\n",
       "      <td>-0.502666</td>\n",
       "      <td>-0.778493</td>\n",
       "      <td>-0.594321</td>\n",
       "      <td>-0.082998</td>\n",
       "      <td>-0.461700</td>\n",
       "      <td>-0.629211</td>\n",
       "      <td>-0.198503</td>\n",
       "      <td>-0.591658</td>\n",
       "      <td>-0.337868</td>\n",
       "      <td>-0.502666</td>\n",
       "      <td>-1.056018</td>\n",
       "    </tr>\n",
       "    <tr>\n",
       "      <th>1</th>\n",
       "      <td>-0.404299</td>\n",
       "      <td>-0.235828</td>\n",
       "      <td>-0.1401</td>\n",
       "      <td>-0.124226</td>\n",
       "      <td>-0.115529</td>\n",
       "      <td>0.563179</td>\n",
       "      <td>-0.361431</td>\n",
       "      <td>-0.677337</td>\n",
       "      <td>-0.635504</td>\n",
       "      <td>1.848156</td>\n",
       "      <td>0.009630</td>\n",
       "      <td>-0.652687</td>\n",
       "      <td>-0.214925</td>\n",
       "      <td>-0.632892</td>\n",
       "      <td>-0.337868</td>\n",
       "      <td>-0.361431</td>\n",
       "      <td>-0.971722</td>\n",
       "    </tr>\n",
       "    <tr>\n",
       "      <th>2</th>\n",
       "      <td>-0.404299</td>\n",
       "      <td>-0.235828</td>\n",
       "      <td>-0.1401</td>\n",
       "      <td>-0.124226</td>\n",
       "      <td>-0.115529</td>\n",
       "      <td>0.563179</td>\n",
       "      <td>-0.385876</td>\n",
       "      <td>-0.711056</td>\n",
       "      <td>-0.625644</td>\n",
       "      <td>1.580100</td>\n",
       "      <td>-0.136645</td>\n",
       "      <td>-0.635389</td>\n",
       "      <td>-0.350400</td>\n",
       "      <td>-0.632381</td>\n",
       "      <td>-0.376520</td>\n",
       "      <td>-0.385876</td>\n",
       "      <td>-1.025667</td>\n",
       "    </tr>\n",
       "    <tr>\n",
       "      <th>3</th>\n",
       "      <td>-0.404299</td>\n",
       "      <td>-0.235828</td>\n",
       "      <td>-0.1401</td>\n",
       "      <td>-0.124226</td>\n",
       "      <td>-0.115529</td>\n",
       "      <td>0.563179</td>\n",
       "      <td>-0.388592</td>\n",
       "      <td>-0.677337</td>\n",
       "      <td>-0.607333</td>\n",
       "      <td>0.805683</td>\n",
       "      <td>-0.120392</td>\n",
       "      <td>-0.616679</td>\n",
       "      <td>-0.551562</td>\n",
       "      <td>-0.621614</td>\n",
       "      <td>-0.415173</td>\n",
       "      <td>-0.388592</td>\n",
       "      <td>-1.063525</td>\n",
       "    </tr>\n",
       "    <tr>\n",
       "      <th>4</th>\n",
       "      <td>-0.404299</td>\n",
       "      <td>-0.235828</td>\n",
       "      <td>-0.1401</td>\n",
       "      <td>-0.124226</td>\n",
       "      <td>-0.115529</td>\n",
       "      <td>0.563179</td>\n",
       "      <td>-0.442913</td>\n",
       "      <td>-0.475024</td>\n",
       "      <td>-0.563668</td>\n",
       "      <td>1.207537</td>\n",
       "      <td>-0.307299</td>\n",
       "      <td>-0.623740</td>\n",
       "      <td>-0.391454</td>\n",
       "      <td>-0.620575</td>\n",
       "      <td>-0.589110</td>\n",
       "      <td>-0.442913</td>\n",
       "      <td>-1.010545</td>\n",
       "    </tr>\n",
       "  </tbody>\n",
       "</table>\n",
       "</div>"
      ],
      "text/plain": [
       "          0         1       2         3         4         5        RT  \\\n",
       "0 -0.404299 -0.235828 -0.1401 -0.124226 -0.115529  0.563179 -0.502666   \n",
       "1 -0.404299 -0.235828 -0.1401 -0.124226 -0.115529  0.563179 -0.361431   \n",
       "2 -0.404299 -0.235828 -0.1401 -0.124226 -0.115529  0.563179 -0.385876   \n",
       "3 -0.404299 -0.235828 -0.1401 -0.124226 -0.115529  0.563179 -0.388592   \n",
       "4 -0.404299 -0.235828 -0.1401 -0.124226 -0.115529  0.563179 -0.442913   \n",
       "\n",
       "   elon_mentions      high    length      link       low  n_mentions  \\\n",
       "0      -0.778493 -0.594321 -0.082998 -0.461700 -0.629211   -0.198503   \n",
       "1      -0.677337 -0.635504  1.848156  0.009630 -0.652687   -0.214925   \n",
       "2      -0.711056 -0.625644  1.580100 -0.136645 -0.635389   -0.350400   \n",
       "3      -0.677337 -0.607333  0.805683 -0.120392 -0.616679   -0.551562   \n",
       "4      -0.475024 -0.563668  1.207537 -0.307299 -0.623740   -0.391454   \n",
       "\n",
       "       open  tesla_mentions  tweet_count    volume  \n",
       "0 -0.591658       -0.337868    -0.502666 -1.056018  \n",
       "1 -0.632892       -0.337868    -0.361431 -0.971722  \n",
       "2 -0.632381       -0.376520    -0.385876 -1.025667  \n",
       "3 -0.621614       -0.415173    -0.388592 -1.063525  \n",
       "4 -0.620575       -0.589110    -0.442913 -1.010545  "
      ]
     },
     "execution_count": 16,
     "metadata": {},
     "output_type": "execute_result"
    }
   ],
   "source": [
    "df1 = pd.DataFrame(data = scaled,\n",
    "                   columns = features)\n",
    "df1.head()"
   ]
  },
  {
   "cell_type": "code",
   "execution_count": 17,
   "metadata": {},
   "outputs": [],
   "source": [
    "df = pd.concat( [df1, df[\"CLASE\"]], \n",
    "                axis=1,\n",
    "                ignore_index = True) \n",
    "columnas = features\n",
    "columnas.append(\"CLASE\")\n"
   ]
  },
  {
   "cell_type": "code",
   "execution_count": 18,
   "metadata": {},
   "outputs": [
    {
     "data": {
      "text/html": [
       "<div>\n",
       "<style scoped>\n",
       "    .dataframe tbody tr th:only-of-type {\n",
       "        vertical-align: middle;\n",
       "    }\n",
       "\n",
       "    .dataframe tbody tr th {\n",
       "        vertical-align: top;\n",
       "    }\n",
       "\n",
       "    .dataframe thead th {\n",
       "        text-align: right;\n",
       "    }\n",
       "</style>\n",
       "<table border=\"1\" class=\"dataframe\">\n",
       "  <thead>\n",
       "    <tr style=\"text-align: right;\">\n",
       "      <th></th>\n",
       "      <th>0</th>\n",
       "      <th>1</th>\n",
       "      <th>2</th>\n",
       "      <th>3</th>\n",
       "      <th>4</th>\n",
       "      <th>5</th>\n",
       "      <th>RT</th>\n",
       "      <th>elon_mentions</th>\n",
       "      <th>high</th>\n",
       "      <th>length</th>\n",
       "      <th>link</th>\n",
       "      <th>low</th>\n",
       "      <th>n_mentions</th>\n",
       "      <th>open</th>\n",
       "      <th>tesla_mentions</th>\n",
       "      <th>tweet_count</th>\n",
       "      <th>volume</th>\n",
       "      <th>CLASE</th>\n",
       "    </tr>\n",
       "  </thead>\n",
       "  <tbody>\n",
       "    <tr>\n",
       "      <th>0</th>\n",
       "      <td>-0.404299</td>\n",
       "      <td>-0.235828</td>\n",
       "      <td>-0.1401</td>\n",
       "      <td>-0.124226</td>\n",
       "      <td>-0.115529</td>\n",
       "      <td>0.563179</td>\n",
       "      <td>-0.502666</td>\n",
       "      <td>-0.778493</td>\n",
       "      <td>-0.594321</td>\n",
       "      <td>-0.082998</td>\n",
       "      <td>-0.461700</td>\n",
       "      <td>-0.629211</td>\n",
       "      <td>-0.198503</td>\n",
       "      <td>-0.591658</td>\n",
       "      <td>-0.337868</td>\n",
       "      <td>-0.502666</td>\n",
       "      <td>-1.056018</td>\n",
       "      <td>0</td>\n",
       "    </tr>\n",
       "    <tr>\n",
       "      <th>1</th>\n",
       "      <td>-0.404299</td>\n",
       "      <td>-0.235828</td>\n",
       "      <td>-0.1401</td>\n",
       "      <td>-0.124226</td>\n",
       "      <td>-0.115529</td>\n",
       "      <td>0.563179</td>\n",
       "      <td>-0.361431</td>\n",
       "      <td>-0.677337</td>\n",
       "      <td>-0.635504</td>\n",
       "      <td>1.848156</td>\n",
       "      <td>0.009630</td>\n",
       "      <td>-0.652687</td>\n",
       "      <td>-0.214925</td>\n",
       "      <td>-0.632892</td>\n",
       "      <td>-0.337868</td>\n",
       "      <td>-0.361431</td>\n",
       "      <td>-0.971722</td>\n",
       "      <td>0</td>\n",
       "    </tr>\n",
       "    <tr>\n",
       "      <th>2</th>\n",
       "      <td>-0.404299</td>\n",
       "      <td>-0.235828</td>\n",
       "      <td>-0.1401</td>\n",
       "      <td>-0.124226</td>\n",
       "      <td>-0.115529</td>\n",
       "      <td>0.563179</td>\n",
       "      <td>-0.385876</td>\n",
       "      <td>-0.711056</td>\n",
       "      <td>-0.625644</td>\n",
       "      <td>1.580100</td>\n",
       "      <td>-0.136645</td>\n",
       "      <td>-0.635389</td>\n",
       "      <td>-0.350400</td>\n",
       "      <td>-0.632381</td>\n",
       "      <td>-0.376520</td>\n",
       "      <td>-0.385876</td>\n",
       "      <td>-1.025667</td>\n",
       "      <td>1</td>\n",
       "    </tr>\n",
       "    <tr>\n",
       "      <th>3</th>\n",
       "      <td>-0.404299</td>\n",
       "      <td>-0.235828</td>\n",
       "      <td>-0.1401</td>\n",
       "      <td>-0.124226</td>\n",
       "      <td>-0.115529</td>\n",
       "      <td>0.563179</td>\n",
       "      <td>-0.388592</td>\n",
       "      <td>-0.677337</td>\n",
       "      <td>-0.607333</td>\n",
       "      <td>0.805683</td>\n",
       "      <td>-0.120392</td>\n",
       "      <td>-0.616679</td>\n",
       "      <td>-0.551562</td>\n",
       "      <td>-0.621614</td>\n",
       "      <td>-0.415173</td>\n",
       "      <td>-0.388592</td>\n",
       "      <td>-1.063525</td>\n",
       "      <td>1</td>\n",
       "    </tr>\n",
       "    <tr>\n",
       "      <th>4</th>\n",
       "      <td>-0.404299</td>\n",
       "      <td>-0.235828</td>\n",
       "      <td>-0.1401</td>\n",
       "      <td>-0.124226</td>\n",
       "      <td>-0.115529</td>\n",
       "      <td>0.563179</td>\n",
       "      <td>-0.442913</td>\n",
       "      <td>-0.475024</td>\n",
       "      <td>-0.563668</td>\n",
       "      <td>1.207537</td>\n",
       "      <td>-0.307299</td>\n",
       "      <td>-0.623740</td>\n",
       "      <td>-0.391454</td>\n",
       "      <td>-0.620575</td>\n",
       "      <td>-0.589110</td>\n",
       "      <td>-0.442913</td>\n",
       "      <td>-1.010545</td>\n",
       "      <td>1</td>\n",
       "    </tr>\n",
       "  </tbody>\n",
       "</table>\n",
       "</div>"
      ],
      "text/plain": [
       "          0         1       2         3         4         5        RT  \\\n",
       "0 -0.404299 -0.235828 -0.1401 -0.124226 -0.115529  0.563179 -0.502666   \n",
       "1 -0.404299 -0.235828 -0.1401 -0.124226 -0.115529  0.563179 -0.361431   \n",
       "2 -0.404299 -0.235828 -0.1401 -0.124226 -0.115529  0.563179 -0.385876   \n",
       "3 -0.404299 -0.235828 -0.1401 -0.124226 -0.115529  0.563179 -0.388592   \n",
       "4 -0.404299 -0.235828 -0.1401 -0.124226 -0.115529  0.563179 -0.442913   \n",
       "\n",
       "   elon_mentions      high    length      link       low  n_mentions  \\\n",
       "0      -0.778493 -0.594321 -0.082998 -0.461700 -0.629211   -0.198503   \n",
       "1      -0.677337 -0.635504  1.848156  0.009630 -0.652687   -0.214925   \n",
       "2      -0.711056 -0.625644  1.580100 -0.136645 -0.635389   -0.350400   \n",
       "3      -0.677337 -0.607333  0.805683 -0.120392 -0.616679   -0.551562   \n",
       "4      -0.475024 -0.563668  1.207537 -0.307299 -0.623740   -0.391454   \n",
       "\n",
       "       open  tesla_mentions  tweet_count    volume  CLASE  \n",
       "0 -0.591658       -0.337868    -0.502666 -1.056018      0  \n",
       "1 -0.632892       -0.337868    -0.361431 -0.971722      0  \n",
       "2 -0.632381       -0.376520    -0.385876 -1.025667      1  \n",
       "3 -0.621614       -0.415173    -0.388592 -1.063525      1  \n",
       "4 -0.620575       -0.589110    -0.442913 -1.010545      1  "
      ]
     },
     "execution_count": 18,
     "metadata": {},
     "output_type": "execute_result"
    }
   ],
   "source": [
    "df.columns = columnas\n",
    "features.remove(\"CLASE\")\n",
    "df.head()"
   ]
  },
  {
   "cell_type": "code",
   "execution_count": 19,
   "metadata": {},
   "outputs": [
    {
     "name": "stdout",
     "output_type": "stream",
     "text": [
      "[0, 1, 2, 3, 4, 5, 'RT', 'elon_mentions', 'high', 'length', 'link', 'low', 'n_mentions', 'open', 'tesla_mentions', 'tweet_count', 'volume']\n"
     ]
    }
   ],
   "source": [
    "print(features)"
   ]
  },
  {
   "cell_type": "code",
   "execution_count": 21,
   "metadata": {},
   "outputs": [],
   "source": [
    "df.to_csv(\"..\\Data\\df_para_entrenamiento.csv\")"
   ]
  },
  {
   "cell_type": "markdown",
   "metadata": {},
   "source": [
    "### Split entre train y test"
   ]
  },
  {
   "cell_type": "code",
   "execution_count": 21,
   "metadata": {},
   "outputs": [],
   "source": [
    "from sklearn.model_selection import train_test_split\n",
    "from sklearn.preprocessing import StandardScaler"
   ]
  },
  {
   "cell_type": "code",
   "execution_count": 22,
   "metadata": {},
   "outputs": [],
   "source": [
    "features = df.columns.difference(['CLASE']).tolist()\n",
    "\n",
    "X = df[features].values\n",
    "Y = df.CLASE\n",
    "\n",
    "sc = StandardScaler()\n",
    "X = sc.fit_transform(X)\n",
    "\n",
    "X_train, X_test, y_train, y_test = train_test_split(X, Y, test_size=0.4, random_state=42)"
   ]
  },
  {
   "cell_type": "markdown",
   "metadata": {},
   "source": [
    "# MODELADO"
   ]
  },
  {
   "cell_type": "code",
   "execution_count": 23,
   "metadata": {},
   "outputs": [
    {
     "name": "stderr",
     "output_type": "stream",
     "text": [
      "Using TensorFlow backend.\n"
     ]
    }
   ],
   "source": [
    "from sklearn.linear_model import LogisticRegression\n",
    "from sklearn.neighbors import KNeighborsClassifier\n",
    "from sklearn.svm import SVC\n",
    "from sklearn.ensemble import RandomForestClassifier\n",
    "from sklearn.naive_bayes import GaussianNB \n",
    "from sklearn.tree import DecisionTreeClassifier\n",
    "from sklearn.model_selection import GridSearchCV\n",
    "from mlxtend.classifier import StackingClassifier\n",
    "from sklearn.ensemble import StackingClassifier\n",
    "\n",
    "import xgboost as xgb\n",
    "from xgboost import XGBClassifier\n",
    "\n",
    "from keras.wrappers.scikit_learn import KerasClassifier\n",
    "from keras.models import Sequential\n",
    "from keras.layers import Dense, LSTM, Bidirectional, Flatten, Dropout\n",
    "\n",
    "from sklearn.pipeline import Pipeline\n",
    "from sklearn.model_selection import StratifiedKFold\n",
    "from sklearn.model_selection import cross_val_score\n",
    "from sklearn.metrics import confusion_matrix, mean_squared_error, mean_absolute_error\n",
    "from sklearn.model_selection import RepeatedKFold\n",
    "from sklearn.model_selection import cross_val_score\n",
    "from sklearn.model_selection import RepeatedStratifiedKFold\n",
    "\n",
    "import warnings\n",
    "from numpy import mean\n",
    "from numpy import std\n",
    "from matplotlib import pyplot\n",
    "\n",
    "from sklearn.metrics import roc_curve, auc"
   ]
  },
  {
   "cell_type": "markdown",
   "metadata": {},
   "source": [
    "### Regresión logística"
   ]
  },
  {
   "cell_type": "code",
   "execution_count": 24,
   "metadata": {
    "scrolled": true
   },
   "outputs": [
    {
     "name": "stdout",
     "output_type": "stream",
     "text": [
      "Accuracy of logistic regression classifier on test set: 56.708860759493675 %\n",
      "[[232 338]\n",
      " [175 440]]\n"
     ]
    }
   ],
   "source": [
    "logreg = LogisticRegression()\n",
    "\n",
    "logreg.fit(X_train, y_train)\n",
    "\n",
    "y_pred = logreg.predict(X_test)\n",
    "print(f'Accuracy of logistic regression classifier on test set: {100*logreg.score(X_test, y_test)} %')\n",
    "\n",
    "from sklearn.metrics import confusion_matrix\n",
    "cm = confusion_matrix(y_test,y_pred)\n",
    "print(cm)"
   ]
  },
  {
   "cell_type": "code",
   "execution_count": 25,
   "metadata": {},
   "outputs": [
    {
     "data": {
      "image/png": "[encoded data removed]",
      "text/plain": [
       "<Figure size 720x720 with 1 Axes>"
      ]
     },
     "metadata": {
      "needs_background": "light"
     },
     "output_type": "display_data"
    }
   ],
   "source": [
    "false_positive_rate, true_positive_rate, threshold = roc_curve(y_test, y_pred)\n",
    "roc_auc = auc(false_positive_rate, true_positive_rate)\n",
    "\n",
    "def plot_roc(roc_auc):\n",
    "    plt.figure(figsize = (10, 10))\n",
    "    plt.title(\"ROC - Regresión Logística\")\n",
    "    plt.plot(false_positive_rate, true_positive_rate, color = \"red\", label = \"AUC = %0.2f\" %roc_auc)\n",
    "    plt.plot([0,1], [0,1], linestyle = \"--\")\n",
    "    plt.axis(\"tight\")\n",
    "    plt.ylabel(\"True Posotive Rate\")\n",
    "    plt.xlabel(\"False Positive Rate\")\n",
    "plot_roc(roc_auc)"
   ]
  },
  {
   "cell_type": "code",
   "execution_count": 26,
   "metadata": {},
   "outputs": [
    {
     "name": "stdout",
     "output_type": "stream",
     "text": [
      "[0, 1, 2, 3, 4, 5, 'RT', 'elon_mentions', 'high', 'length', 'link', 'low', 'n_mentions', 'open', 'tesla_mentions', 'tweet_count', 'volume']\n"
     ]
    }
   ],
   "source": [
    "print(features)"
   ]
  },
  {
   "cell_type": "code",
   "execution_count": 27,
   "metadata": {},
   "outputs": [
    {
     "name": "stdout",
     "output_type": "stream",
     "text": [
      "Feature: 0, Score: -0.01607\n",
      "Feature: 1, Score: 0.01790\n",
      "Feature: 2, Score: -0.02024\n",
      "Feature: 3, Score: -0.04633\n",
      "Feature: 4, Score: 0.05405\n",
      "Feature: 5, Score: 0.00905\n",
      "Feature: 6, Score: -0.07620\n",
      "Feature: 7, Score: -0.07585\n",
      "Feature: 8, Score: 1.91251\n",
      "Feature: 9, Score: -0.06308\n",
      "Feature: 10, Score: 0.34213\n",
      "Feature: 11, Score: 1.38747\n",
      "Feature: 12, Score: -0.11597\n",
      "Feature: 13, Score: -3.30263\n",
      "Feature: 14, Score: -0.07586\n",
      "Feature: 15, Score: -0.07620\n",
      "Feature: 16, Score: -0.12993\n"
     ]
    },
    {
     "data": {
      "image/png": "[encoded data removed]",
      "text/plain": [
       "<Figure size 432x288 with 1 Axes>"
      ]
     },
     "metadata": {
      "needs_background": "light"
     },
     "output_type": "display_data"
    }
   ],
   "source": [
    "importance = logreg.coef_[0]\n",
    "# summarize feature importance\n",
    "for i,v in enumerate(importance):\n",
    "    print('Feature: %0d, Score: %.5f' % (i,v))\n",
    "# plot feature importance\n",
    "plt.bar([x for x in range(len(importance))], importance)\n",
    "plt.show()"
   ]
  },
  {
   "cell_type": "code",
   "execution_count": null,
   "metadata": {},
   "outputs": [],
   "source": []
  },
  {
   "cell_type": "markdown",
   "metadata": {},
   "source": [
    "### LDA"
   ]
  },
  {
   "cell_type": "code",
   "execution_count": 28,
   "metadata": {},
   "outputs": [],
   "source": [
    "from sklearn.discriminant_analysis import LinearDiscriminantAnalysis\n",
    "from sklearn.discriminant_analysis import QuadraticDiscriminantAnalysis"
   ]
  },
  {
   "cell_type": "code",
   "execution_count": 29,
   "metadata": {},
   "outputs": [
    {
     "name": "stdout",
     "output_type": "stream",
     "text": [
      "Accuracy of logistic regression classifier on test set: 84.05063291139241 %\n",
      "[[460 110]\n",
      " [ 79 536]]\n"
     ]
    }
   ],
   "source": [
    "LDA = LinearDiscriminantAnalysis()\n",
    "\n",
    "LDA.fit(X_train, y_train)\n",
    "\n",
    "y_pred = LDA.predict(X_test)\n",
    "print(f'Accuracy of logistic regression classifier on test set: {100*LDA.score(X_test, y_test)} %')\n",
    "\n",
    "cm = confusion_matrix(y_test,y_pred)\n",
    "print(cm)"
   ]
  },
  {
   "cell_type": "code",
   "execution_count": 30,
   "metadata": {},
   "outputs": [
    {
     "data": {
      "image/png": "[encoded data removed]",
      "text/plain": [
       "<Figure size 720x720 with 1 Axes>"
      ]
     },
     "metadata": {
      "needs_background": "light"
     },
     "output_type": "display_data"
    }
   ],
   "source": [
    "false_positive_rate, true_positive_rate, threshold = roc_curve(y_test, y_pred)\n",
    "roc_auc = auc(false_positive_rate, true_positive_rate)\n",
    "\n",
    "def plot_roc(roc_auc):\n",
    "    plt.figure(figsize = (10, 10))\n",
    "    plt.title(\"ROC - Linear Discriminant Analysis\")\n",
    "    plt.plot(false_positive_rate, true_positive_rate, color = \"red\", label = \"AUC = %0.2f\" %roc_auc)\n",
    "    plt.plot([0,1], [0,1], linestyle = \"--\")\n",
    "    plt.axis(\"tight\")\n",
    "    plt.ylabel(\"True Posotive Rate\")\n",
    "    plt.xlabel(\"False Positive Rate\")\n",
    "plot_roc(roc_auc)"
   ]
  },
  {
   "cell_type": "code",
   "execution_count": 31,
   "metadata": {},
   "outputs": [
    {
     "name": "stdout",
     "output_type": "stream",
     "text": [
      "Feature: 0, Score: -0.02742\n",
      "Feature: 1, Score: -0.00245\n",
      "Feature: 2, Score: -0.02681\n",
      "Feature: 3, Score: -0.10121\n",
      "Feature: 4, Score: 0.10391\n",
      "Feature: 5, Score: 0.03248\n",
      "Feature: 6, Score: 0.12877\n",
      "Feature: 7, Score: -0.00814\n",
      "Feature: 8, Score: 90.03094\n",
      "Feature: 9, Score: 0.05117\n",
      "Feature: 10, Score: -0.06659\n",
      "Feature: 11, Score: 121.46776\n",
      "Feature: 12, Score: -0.01791\n",
      "Feature: 13, Score: -211.54742\n",
      "Feature: 14, Score: -0.14410\n",
      "Feature: 15, Score: 0.12877\n",
      "Feature: 16, Score: -0.15365\n"
     ]
    },
    {
     "data": {
      "image/png": "[encoded data removed]",
      "text/plain": [
       "<Figure size 432x288 with 1 Axes>"
      ]
     },
     "metadata": {
      "needs_background": "light"
     },
     "output_type": "display_data"
    }
   ],
   "source": [
    "importance = LDA.coef_[0]\n",
    "# summarize feature importance\n",
    "for i,v in enumerate(importance):\n",
    "    print('Feature: %0d, Score: %.5f' % (i,v))\n",
    "# plot feature importance\n",
    "plt.bar([x for x in range(len(importance))], importance)\n",
    "plt.show()"
   ]
  },
  {
   "cell_type": "code",
   "execution_count": null,
   "metadata": {},
   "outputs": [],
   "source": []
  },
  {
   "cell_type": "markdown",
   "metadata": {},
   "source": [
    "### KNN"
   ]
  },
  {
   "cell_type": "code",
   "execution_count": 32,
   "metadata": {},
   "outputs": [
    {
     "name": "stdout",
     "output_type": "stream",
     "text": [
      "Accuracy of KNN classifier on test set: 51.561181434599156 %\n",
      "[[308 262]\n",
      " [312 303]]\n"
     ]
    }
   ],
   "source": [
    "knn_clf = KNeighborsClassifier(n_neighbors = 50, n_jobs=-1)\n",
    "\n",
    "knn_clf.fit(X_train, y_train)\n",
    "\n",
    "y_pred = knn_clf.predict(X_test)\n",
    "print(f'Accuracy of KNN classifier on test set: {100*knn_clf.score(X_test, y_test)} %')\n",
    "\n",
    "from sklearn.metrics import confusion_matrix\n",
    "cm = confusion_matrix(y_test,y_pred)\n",
    "print(cm)"
   ]
  },
  {
   "cell_type": "code",
   "execution_count": 33,
   "metadata": {},
   "outputs": [
    {
     "data": {
      "image/png": "[encoded data removed]",
      "text/plain": [
       "<Figure size 720x720 with 1 Axes>"
      ]
     },
     "metadata": {
      "needs_background": "light"
     },
     "output_type": "display_data"
    }
   ],
   "source": [
    "false_positive_rate, true_positive_rate, threshold = roc_curve(y_test, y_pred)\n",
    "roc_auc = auc(false_positive_rate, true_positive_rate)\n",
    "\n",
    "def plot_roc(roc_auc):\n",
    "    plt.figure(figsize = (10, 10))\n",
    "    plt.title(\"ROC - KNN\")\n",
    "    plt.plot(false_positive_rate, true_positive_rate, color = \"red\", label = \"AUC = %0.2f\" %roc_auc)\n",
    "    plt.plot([0,1], [0,1], linestyle = \"--\")\n",
    "    plt.axis(\"tight\")\n",
    "    plt.ylabel(\"True Posotive Rate\")\n",
    "    plt.xlabel(\"False Positive Rate\")\n",
    "plot_roc(roc_auc)"
   ]
  },
  {
   "cell_type": "markdown",
   "metadata": {},
   "source": [
    "### SVC"
   ]
  },
  {
   "cell_type": "code",
   "execution_count": 34,
   "metadata": {},
   "outputs": [
    {
     "name": "stdout",
     "output_type": "stream",
     "text": [
      "Accuracy of KNN classifier on test set: 53.58649789029536 %\n",
      "[[110 460]\n",
      " [ 90 525]]\n"
     ]
    }
   ],
   "source": [
    "svc = SVC(kernel = \"linear\", C = 1, degree = 1, gamma = \"auto\")\n",
    "\n",
    "svc.fit(X_train, y_train)\n",
    "\n",
    "y_pred = svc.predict(X_test)\n",
    "print(f'Accuracy of KNN classifier on test set: {100*svc.score(X_test, y_test)} %')\n",
    "\n",
    "from sklearn.metrics import confusion_matrix\n",
    "cm = confusion_matrix(y_test,y_pred)\n",
    "print(cm)"
   ]
  },
  {
   "cell_type": "code",
   "execution_count": 35,
   "metadata": {},
   "outputs": [
    {
     "data": {
      "image/png": "[encoded data removed]",
      "text/plain": [
       "<Figure size 720x720 with 1 Axes>"
      ]
     },
     "metadata": {
      "needs_background": "light"
     },
     "output_type": "display_data"
    }
   ],
   "source": [
    "false_positive_rate, true_positive_rate, threshold = roc_curve(y_test, y_pred)\n",
    "roc_auc = auc(false_positive_rate, true_positive_rate)\n",
    "\n",
    "def plot_roc(roc_auc):\n",
    "    plt.figure(figsize = (10, 10))\n",
    "    plt.title(\"ROC - SVM\")\n",
    "    plt.plot(false_positive_rate, true_positive_rate, color = \"red\", label = \"AUC = %0.2f\" %roc_auc)\n",
    "    plt.plot([0,1], [0,1], linestyle = \"--\")\n",
    "    plt.axis(\"tight\")\n",
    "    plt.ylabel(\"True Posotive Rate\")\n",
    "    plt.xlabel(\"False Positive Rate\")\n",
    "plot_roc(roc_auc)"
   ]
  },
  {
   "cell_type": "markdown",
   "metadata": {},
   "source": [
    "### NN1"
   ]
  },
  {
   "cell_type": "code",
   "execution_count": 36,
   "metadata": {},
   "outputs": [
    {
     "name": "stdout",
     "output_type": "stream",
     "text": [
      "17\n"
     ]
    }
   ],
   "source": [
    "input_dim = len(features)\n",
    "print(input_dim)"
   ]
  },
  {
   "cell_type": "code",
   "execution_count": 37,
   "metadata": {},
   "outputs": [
    {
     "name": "stderr",
     "output_type": "stream",
     "text": [
      "[Parallel(n_jobs=-1)]: Using backend LokyBackend with 12 concurrent workers.\n"
     ]
    },
    {
     "name": "stdout",
     "output_type": "stream",
     "text": [
      "Results: 50.56% (2.96%)\n"
     ]
    },
    {
     "name": "stderr",
     "output_type": "stream",
     "text": [
      "[Parallel(n_jobs=-1)]: Done   4 out of   4 | elapsed:    6.2s finished\n"
     ]
    }
   ],
   "source": [
    "# Baseline model for the neural network. We choose a hidden layer of 10 neurons. The lesser number of neurons helps to eliminate the redundancies in the data and select the more important features.\n",
    "def create_baseline():\n",
    "    # create model\n",
    "    model = Sequential()\n",
    "    model.add(Dense(30, input_dim=input_dim, kernel_initializer='normal', activation='relu'))\n",
    "    model.add(Dense(10, input_dim=input_dim, kernel_initializer='normal', activation='relu'))\n",
    "    model.add(Dense(1, kernel_initializer='normal', activation='sigmoid'))\n",
    "    # Compile model. We use the the logarithmic loss function, and the Adam gradient optimizer.\n",
    "    model.compile(loss='binary_crossentropy', optimizer='adam', metrics=['accuracy'])\n",
    "    return model\n",
    "\n",
    "# Evaluate model using standardized dataset. \n",
    "estimators = []\n",
    "estimators.append(('standardize', StandardScaler()))\n",
    "estimators.append(('mlp', KerasClassifier(build_fn=create_baseline, epochs=10, batch_size=10, verbose=1)))\n",
    "pipeline = Pipeline(estimators)\n",
    "\n",
    "kfold = StratifiedKFold(n_splits=4, shuffle=True)\n",
    "results = cross_val_score(pipeline, X_train, y_train, cv=kfold, verbose = 1, n_jobs = -1)\n",
    "print(\"Results: %.2f%% (%.2f%%)\" % (results.mean()*100, results.std()*100))"
   ]
  },
  {
   "cell_type": "code",
   "execution_count": 38,
   "metadata": {},
   "outputs": [
    {
     "name": "stdout",
     "output_type": "stream",
     "text": [
      "WARNING:tensorflow:From C:\\Users\\pablo\\Anaconda3\\lib\\site-packages\\tensorflow_core\\python\\ops\\resource_variable_ops.py:1630: calling BaseResourceVariable.__init__ (from tensorflow.python.ops.resource_variable_ops) with constraint is deprecated and will be removed in a future version.\n",
      "Instructions for updating:\n",
      "If using Keras pass *_constraint arguments to layers.\n",
      "WARNING:tensorflow:From C:\\Users\\pablo\\Anaconda3\\lib\\site-packages\\tensorflow_core\\python\\ops\\nn_impl.py:183: where (from tensorflow.python.ops.array_ops) is deprecated and will be removed in a future version.\n",
      "Instructions for updating:\n",
      "Use tf.where in 2.0, which has the same broadcast rule as np.where\n",
      "WARNING:tensorflow:From C:\\Users\\pablo\\Anaconda3\\lib\\site-packages\\keras\\backend\\tensorflow_backend.py:422: The name tf.global_variables is deprecated. Please use tf.compat.v1.global_variables instead.\n",
      "\n",
      "Epoch 1/10\n",
      "1776/1776 [==============================] - 0s 127us/step - loss: 0.6932 - accuracy: 0.5186\n",
      "Epoch 2/10\n",
      "1776/1776 [==============================] - 0s 79us/step - loss: 0.6927 - accuracy: 0.5276\n",
      "Epoch 3/10\n",
      "1776/1776 [==============================] - 0s 73us/step - loss: 0.6918 - accuracy: 0.5293\n",
      "Epoch 4/10\n",
      "1776/1776 [==============================] - 0s 77us/step - loss: 0.6907 - accuracy: 0.5428\n",
      "Epoch 5/10\n",
      "1776/1776 [==============================] - 0s 78us/step - loss: 0.6893 - accuracy: 0.5400\n",
      "Epoch 6/10\n",
      "1776/1776 [==============================] - 0s 74us/step - loss: 0.6887 - accuracy: 0.5343\n",
      "Epoch 7/10\n",
      "1776/1776 [==============================] - 0s 74us/step - loss: 0.6881 - accuracy: 0.5293\n",
      "Epoch 8/10\n",
      "1776/1776 [==============================] - 0s 75us/step - loss: 0.6871 - accuracy: 0.5428\n",
      "Epoch 9/10\n",
      "1776/1776 [==============================] - 0s 76us/step - loss: 0.6862 - accuracy: 0.5445\n",
      "Epoch 10/10\n",
      "1776/1776 [==============================] - 0s 93us/step - loss: 0.6860 - accuracy: 0.5462\n",
      "1185/1185 [==============================] - 0s 48us/step\n",
      "1185/1185 [==============================] - 0s 53us/step\n",
      "Accuracy of nn classifier on test set: 50.46413540840149 %\n",
      "[[184 386]\n",
      " [201 414]]\n"
     ]
    }
   ],
   "source": [
    "modelo = pipeline.fit(X_train, y_train)\n",
    "\n",
    "y_pred = modelo.predict(X_test)\n",
    "print(f'Accuracy of nn classifier on test set: {100*modelo.score(X_test, y_test)} %')\n",
    "\n",
    "cm = confusion_matrix(y_test,y_pred)\n",
    "print(cm)"
   ]
  },
  {
   "cell_type": "markdown",
   "metadata": {},
   "source": [
    "### NN2"
   ]
  },
  {
   "cell_type": "code",
   "execution_count": 39,
   "metadata": {},
   "outputs": [
    {
     "data": {
      "text/plain": [
       "(1776, 17)"
      ]
     },
     "execution_count": 39,
     "metadata": {},
     "output_type": "execute_result"
    }
   ],
   "source": [
    "X_train.shape"
   ]
  },
  {
   "cell_type": "code",
   "execution_count": 40,
   "metadata": {},
   "outputs": [
    {
     "data": {
      "text/plain": [
       "17"
      ]
     },
     "execution_count": 40,
     "metadata": {},
     "output_type": "execute_result"
    }
   ],
   "source": [
    "len(df[features].columns)"
   ]
  },
  {
   "cell_type": "code",
   "execution_count": 41,
   "metadata": {},
   "outputs": [],
   "source": [
    "X_train1 = X_train.reshape(len(X_train), 1, len(df[features].columns))\n",
    "X_test1 = X_test.reshape(len(X_test), 1, len(df[features].columns))"
   ]
  },
  {
   "cell_type": "code",
   "execution_count": 42,
   "metadata": {},
   "outputs": [],
   "source": [
    "y_train1 = y_train.to_numpy()\n",
    "y_test1 = y_test.to_numpy()"
   ]
  },
  {
   "cell_type": "code",
   "execution_count": 43,
   "metadata": {},
   "outputs": [
    {
     "data": {
      "text/plain": [
       "array([0, 1, 0, ..., 1, 0, 1], dtype=int64)"
      ]
     },
     "execution_count": 43,
     "metadata": {},
     "output_type": "execute_result"
    }
   ],
   "source": [
    "y_train1"
   ]
  },
  {
   "cell_type": "code",
   "execution_count": 44,
   "metadata": {},
   "outputs": [
    {
     "name": "stdout",
     "output_type": "stream",
     "text": [
      "Train on 1420 samples, validate on 356 samples\n",
      "Epoch 1/5\n",
      "1420/1420 [==============================] - 1s 472us/step - loss: 0.6938 - accuracy: 0.4915 - val_loss: 0.6939 - val_accuracy: 0.4494\n",
      "Epoch 2/5\n",
      "1420/1420 [==============================] - 0s 231us/step - loss: 0.6934 - accuracy: 0.4831 - val_loss: 0.6931 - val_accuracy: 0.5000\n",
      "Epoch 3/5\n",
      "1420/1420 [==============================] - 0s 212us/step - loss: 0.6934 - accuracy: 0.5028 - val_loss: 0.6940 - val_accuracy: 0.4551\n",
      "Epoch 4/5\n",
      "1420/1420 [==============================] - 0s 192us/step - loss: 0.6930 - accuracy: 0.5204 - val_loss: 0.6939 - val_accuracy: 0.4494\n",
      "Epoch 5/5\n",
      "1420/1420 [==============================] - 0s 240us/step - loss: 0.6934 - accuracy: 0.4937 - val_loss: 0.6941 - val_accuracy: 0.4607\n"
     ]
    }
   ],
   "source": [
    "# create model\n",
    "model = Sequential()\n",
    "model.add(LSTM(64, activation=\"sigmoid\"))\n",
    "model.add(Dropout(0.2))\n",
    "model.add(Dense(10,  activation='relu'))\n",
    "model.add(Dense(1, kernel_initializer='normal', activation='sigmoid'))\n",
    "\n",
    "# Compile model. We use the the logarithmic loss function, and the Adam gradient optimizer.\n",
    "model.compile(loss='binary_crossentropy', optimizer='adam', metrics=['accuracy'])\n",
    "\n",
    "model.fit(X_train1, y_train1, batch_size = 10, epochs = 5, validation_split = 0.2)\n",
    "\n",
    "y_pred = model.predict(X_test1)"
   ]
  },
  {
   "cell_type": "code",
   "execution_count": 45,
   "metadata": {},
   "outputs": [
    {
     "name": "stdout",
     "output_type": "stream",
     "text": [
      "Accuracy: 48.523206\n"
     ]
    }
   ],
   "source": [
    "loss, accuracy = model.evaluate(X_test1, y_test, verbose=0)\n",
    "print('Accuracy: %f' % (accuracy*100))"
   ]
  },
  {
   "cell_type": "markdown",
   "metadata": {},
   "source": [
    "### Random Forest"
   ]
  },
  {
   "cell_type": "code",
   "execution_count": 46,
   "metadata": {},
   "outputs": [
    {
     "name": "stdout",
     "output_type": "stream",
     "text": [
      "Accuracy of KNN classifier on test set: 52.320675105485236 %\n",
      "[[287 283]\n",
      " [282 333]]\n"
     ]
    }
   ],
   "source": [
    "rf_clf = RandomForestClassifier(n_estimators = 100,max_depth= 40, n_jobs=-1, random_state = 42)\n",
    "\n",
    "rf_clf.fit(X_train, y_train)\n",
    "\n",
    "y_pred = rf_clf.predict(X_test)\n",
    "print(f'Accuracy of KNN classifier on test set: {100*rf_clf.score(X_test, y_test)} %')\n",
    "\n",
    "from sklearn.metrics import confusion_matrix\n",
    "cm = confusion_matrix(y_test,y_pred)\n",
    "print(cm)"
   ]
  },
  {
   "cell_type": "code",
   "execution_count": null,
   "metadata": {},
   "outputs": [],
   "source": []
  },
  {
   "cell_type": "code",
   "execution_count": 47,
   "metadata": {},
   "outputs": [
    {
     "name": "stdout",
     "output_type": "stream",
     "text": [
      "Feature ranking:\n",
      "1. feature 9 (0.100275)\n",
      "2. feature 16 (0.099899)\n",
      "3. feature 13 (0.093942)\n",
      "4. feature 12 (0.091890)\n",
      "5. feature 10 (0.091060)\n",
      "6. feature 15 (0.084251)\n",
      "7. feature 11 (0.083017)\n",
      "8. feature 14 (0.081532)\n",
      "9. feature 8 (0.081311)\n",
      "10. feature 6 (0.081196)\n",
      "11. feature 7 (0.077113)\n",
      "12. feature 5 (0.010948)\n",
      "13. feature 0 (0.009107)\n",
      "14. feature 1 (0.004804)\n",
      "15. feature 2 (0.004788)\n",
      "16. feature 3 (0.002496)\n",
      "17. feature 4 (0.002371)\n"
     ]
    },
    {
     "data": {
      "image/png": "[encoded data removed]",
      "text/plain": [
       "<Figure size 432x288 with 1 Axes>"
      ]
     },
     "metadata": {
      "needs_background": "light"
     },
     "output_type": "display_data"
    }
   ],
   "source": [
    "importances = rf_clf.feature_importances_\n",
    "std = np.std([tree.feature_importances_ for tree in rf_clf.estimators_],\n",
    "             axis=0)\n",
    "indices = np.argsort(importances)[::-1]\n",
    "\n",
    "# Print the feature ranking\n",
    "print(\"Feature ranking:\")\n",
    "\n",
    "for f in range(X.shape[1]):\n",
    "    print(\"%d. feature %d (%f)\" % (f + 1, indices[f], importances[indices[f]]))\n",
    "\n",
    "# Plot the impurity-based feature importances of the forest\n",
    "plt.figure()\n",
    "plt.title(\"Feature importances\")\n",
    "plt.bar(range(X.shape[1]), importances[indices],\n",
    "        color=\"r\", yerr=std[indices], align=\"center\")\n",
    "plt.xticks(range(X.shape[1]), indices)\n",
    "plt.xlim([-1, X.shape[1]])\n",
    "plt.show()"
   ]
  },
  {
   "cell_type": "code",
   "execution_count": 48,
   "metadata": {},
   "outputs": [
    {
     "data": {
      "text/plain": [
       "[0,\n",
       " 1,\n",
       " 2,\n",
       " 3,\n",
       " 4,\n",
       " 5,\n",
       " 'RT',\n",
       " 'elon_mentions',\n",
       " 'high',\n",
       " 'length',\n",
       " 'link',\n",
       " 'low',\n",
       " 'n_mentions',\n",
       " 'open',\n",
       " 'tesla_mentions',\n",
       " 'tweet_count',\n",
       " 'volume']"
      ]
     },
     "execution_count": 48,
     "metadata": {},
     "output_type": "execute_result"
    }
   ],
   "source": [
    "features"
   ]
  },
  {
   "cell_type": "markdown",
   "metadata": {},
   "source": [
    "### XGBoosting con Hyperopt"
   ]
  },
  {
   "cell_type": "code",
   "execution_count": 49,
   "metadata": {},
   "outputs": [],
   "source": [
    "from hyperopt import fmin, tpe, hp, STATUS_OK, Trials"
   ]
  },
  {
   "cell_type": "code",
   "execution_count": 50,
   "metadata": {},
   "outputs": [],
   "source": [
    "#Defino el espacio de Hiperparámetros\n",
    "space = {\n",
    "            'colsample_bytree' : hp.quniform('colsample_bytree', 0.5, 1.0, 0.05),\n",
    "            'gamma' : hp.quniform('gamma', 0.01, 0.5, 0.05),\n",
    "            'learning_rate' : hp.quniform('learning_rate', 0.01, 0.2, 0.01),\n",
    "            'max_depth' : hp.choice('max_depth', range(1, 20, 2)),\n",
    "            'min_child_weight' : hp.quniform('min_child_weight', 1, 100, 5),\n",
    "            'n_estimators' : hp.choice('n_estimators', range(300, 400, 10)),\n",
    "            'reg_alpha': hp.choice('reg_alpha',[1e-5, 1e-2, 0.1]),\n",
    "            'subsample' : hp.quniform('subsample', 0.4, 0.8, 0.05),\n",
    "            \n",
    "}"
   ]
  },
  {
   "cell_type": "code",
   "execution_count": 51,
   "metadata": {},
   "outputs": [
    {
     "name": "stdout",
     "output_type": "stream",
     "text": [
      "CrossValMean:                                                                                                          \n",
      "0.5067567567567568                                                                                                     \n",
      "CrossValMean:                                                                                                          \n",
      "0.5016891891891891                                                                                                     \n",
      "CrossValMean:                                                                                                          \n",
      "0.5202702702702703                                                                                                     \n",
      "CrossValMean:                                                                                                          \n",
      "0.5056306306306305                                                                                                     \n",
      "CrossValMean:                                                                                                          \n",
      "0.5050675675675677                                                                                                     \n",
      "CrossValMean:                                                                                                          \n",
      "0.49718468468468474                                                                                                    \n",
      "CrossValMean:                                                                                                          \n",
      "0.5118243243243243                                                                                                     \n",
      "CrossValMean:                                                                                                          \n",
      "0.5005630630630631                                                                                                     \n",
      "CrossValMean:                                                                                                          \n",
      "0.5095720720720721                                                                                                     \n",
      "CrossValMean:                                                                                                          \n",
      "0.518018018018018                                                                                                      \n",
      "CrossValMean:                                                                                                          \n",
      "0.5152027027027027                                                                                                     \n",
      "CrossValMean:                                                                                                          \n",
      "0.5033783783783784                                                                                                     \n",
      "CrossValMean:                                                                                                          \n",
      "0.49605855855855857                                                                                                    \n",
      "CrossValMean:                                                                                                          \n",
      "0.5146396396396397                                                                                                     \n",
      "CrossValMean:                                                                                                          \n",
      "0.5067567567567568                                                                                                     \n",
      "CrossValMean:                                                                                                          \n",
      "0.49887387387387383                                                                                                    \n",
      "CrossValMean:                                                                                                          \n",
      "0.49943693693693697                                                                                                    \n",
      "CrossValMean:                                                                                                          \n",
      "0.5028153153153153                                                                                                     \n",
      "CrossValMean:                                                                                                          \n",
      "0.5073198198198199                                                                                                     \n",
      "CrossValMean:                                                                                                          \n",
      "0.49042792792792794                                                                                                    \n",
      "CrossValMean:                                                                                                          \n",
      "0.5016891891891891                                                                                                     \n",
      "CrossValMean:                                                                                                          \n",
      "0.5045045045045046                                                                                                     \n",
      "CrossValMean:                                                                                                          \n",
      "0.48986486486486486                                                                                                    \n",
      "CrossValMean:                                                                                                          \n",
      "0.4954954954954955                                                                                                     \n",
      "CrossValMean:                                                                                                          \n",
      "0.5028153153153153                                                                                                     \n",
      "CrossValMean:                                                                                                          \n",
      "0.5011261261261261                                                                                                     \n",
      "CrossValMean:                                                                                                          \n",
      "0.5140765765765766                                                                                                     \n",
      "CrossValMean:                                                                                                          \n",
      "0.4983108108108108                                                                                                     \n",
      "CrossValMean:                                                                                                          \n",
      "0.49718468468468463                                                                                                    \n",
      "CrossValMean:                                                                                                          \n",
      "0.4977477477477477                                                                                                     \n",
      "CrossValMean:                                                                                                          \n",
      "0.5022522522522522                                                                                                     \n",
      "CrossValMean:                                                                                                          \n",
      "0.4898648648648649                                                                                                     \n",
      "CrossValMean:                                                                                                          \n",
      "0.49887387387387383                                                                                                    \n",
      "CrossValMean:                                                                                                          \n",
      "0.4938063063063063                                                                                                     \n",
      "CrossValMean:                                                                                                          \n",
      "0.49493243243243246                                                                                                    \n",
      "CrossValMean:                                                                                                          \n",
      "0.5135135135135135                                                                                                     \n",
      "CrossValMean:                                                                                                          \n",
      "0.4690315315315315                                                                                                     \n",
      "CrossValMean:                                                                                                          \n",
      "0.5061936936936937                                                                                                     \n",
      "CrossValMean:                                                                                                          \n",
      "0.5152027027027026                                                                                                     \n",
      "CrossValMean:                                                                                                          \n",
      "0.5016891891891891                                                                                                     \n",
      "CrossValMean:                                                                                                          \n",
      "0.5022522522522522                                                                                                     \n",
      "CrossValMean:                                                                                                          \n",
      "0.5022522522522522                                                                                                     \n",
      "CrossValMean:                                                                                                          \n",
      "0.49662162162162166                                                                                                    \n",
      "CrossValMean:                                                                                                          \n",
      "0.500563063063063                                                                                                      \n",
      "CrossValMean:                                                                                                          \n",
      "0.5123873873873874                                                                                                     \n",
      "CrossValMean:                                                                                                          \n",
      "0.49887387387387383                                                                                                    \n",
      "CrossValMean:                                                                                                          \n",
      "0.49718468468468474                                                                                                    \n",
      "CrossValMean:                                                                                                          \n",
      "0.5067567567567567                                                                                                     \n",
      "CrossValMean:                                                                                                          \n",
      "0.5039414414414414                                                                                                     \n",
      "CrossValMean:                                                                                                          \n",
      "0.5095720720720721                                                                                                     \n",
      "CrossValMean:                                                                                                          \n",
      "0.5259009009009009                                                                                                     \n",
      "CrossValMean:                                                                                                          \n",
      "0.5112612612612613                                                                                                     \n",
      "CrossValMean:                                                                                                          \n",
      "0.5045045045045046                                                                                                     \n",
      "CrossValMean:                                                                                                          \n",
      "0.5028153153153153                                                                                                     \n",
      "CrossValMean:                                                                                                          \n",
      "0.5123873873873873                                                                                                     \n",
      "CrossValMean:                                                                                                          \n",
      "0.5067567567567567                                                                                                     \n",
      "CrossValMean:                                                                                                          \n",
      "0.5146396396396397                                                                                                     \n",
      "CrossValMean:                                                                                                          \n",
      "0.49662162162162166                                                                                                    \n",
      "CrossValMean:                                                                                                          \n",
      "0.5073198198198198                                                                                                     \n",
      "CrossValMean:                                                                                                          \n",
      "0.4983108108108108                                                                                                     \n",
      "CrossValMean:                                                                                                          \n",
      "0.5067567567567568                                                                                                     \n",
      "CrossValMean:                                                                                                          \n",
      "0.4954954954954955                                                                                                     \n",
      "CrossValMean:                                                                                                          \n",
      "0.5084459459459459                                                                                                     \n",
      "CrossValMean:                                                                                                          \n",
      "0.5045045045045045                                                                                                     \n",
      "CrossValMean:                                                                                                          \n",
      "0.5078828828828829                                                                                                     \n",
      "CrossValMean:                                                                                                          \n",
      "0.4938063063063063                                                                                                     \n",
      "CrossValMean:                                                                                                          \n",
      "0.5168918918918919                                                                                                     \n",
      "CrossValMean:                                                                                                          \n",
      "0.49268018018018017                                                                                                    \n"
     ]
    },
    {
     "name": "stdout",
     "output_type": "stream",
     "text": [
      "CrossValMean:                                                                                                          \n",
      "0.5016891891891891                                                                                                     \n",
      "CrossValMean:                                                                                                          \n",
      "0.5045045045045046                                                                                                     \n",
      "CrossValMean:                                                                                                          \n",
      "0.5022522522522522                                                                                                     \n",
      "CrossValMean:                                                                                                          \n",
      "0.4983108108108108                                                                                                     \n",
      "CrossValMean:                                                                                                          \n",
      "0.5123873873873874                                                                                                     \n",
      "CrossValMean:                                                                                                          \n",
      "0.49436936936936937                                                                                                    \n",
      "CrossValMean:                                                                                                          \n",
      "0.49662162162162166                                                                                                    \n",
      "CrossValMean:                                                                                                          \n",
      "0.49493243243243246                                                                                                    \n",
      "CrossValMean:                                                                                                          \n",
      "0.5078828828828829                                                                                                     \n",
      "CrossValMean:                                                                                                          \n",
      "0.5067567567567567                                                                                                     \n",
      "CrossValMean:                                                                                                          \n",
      "0.5                                                                                                                    \n",
      "CrossValMean:                                                                                                          \n",
      "0.49493243243243246                                                                                                    \n",
      "CrossValMean:                                                                                                          \n",
      "0.49324324324324326                                                                                                    \n",
      "CrossValMean:                                                                                                          \n",
      "0.4814189189189189                                                                                                     \n",
      "CrossValMean:                                                                                                          \n",
      "0.4921171171171171                                                                                                     \n",
      "CrossValMean:                                                                                                          \n",
      "0.49718468468468463                                                                                                    \n",
      "CrossValMean:                                                                                                          \n",
      "0.4938063063063063                                                                                                     \n",
      "CrossValMean:                                                                                                          \n",
      "0.5028153153153153                                                                                                     \n",
      "CrossValMean:                                                                                                          \n",
      "0.5140765765765766                                                                                                     \n",
      "CrossValMean:                                                                                                          \n",
      "0.5011261261261262                                                                                                     \n",
      "CrossValMean:                                                                                                          \n",
      "0.5078828828828829                                                                                                     \n",
      "CrossValMean:                                                                                                          \n",
      "0.500563063063063                                                                                                      \n",
      "CrossValMean:                                                                                                          \n",
      "0.4938063063063063                                                                                                     \n",
      "CrossValMean:                                                                                                          \n",
      "0.5067567567567568                                                                                                     \n",
      "CrossValMean:                                                                                                          \n",
      "0.5022522522522522                                                                                                     \n",
      "CrossValMean:                                                                                                          \n",
      "0.49493243243243246                                                                                                    \n",
      "CrossValMean:                                                                                                          \n",
      "0.49718468468468463                                                                                                    \n",
      "CrossValMean:                                                                                                          \n",
      "0.5033783783783784                                                                                                     \n",
      "CrossValMean:                                                                                                          \n",
      "0.49943693693693697                                                                                                    \n",
      "CrossValMean:                                                                                                          \n",
      "0.4926801801801801                                                                                                     \n",
      "CrossValMean:                                                                                                          \n",
      "0.5259009009009009                                                                                                     \n",
      "CrossValMean:                                                                                                          \n",
      "0.5146396396396397                                                                                                     \n",
      "100%|██████████████████████████████████████████████| 100/100 [01:21<00:00,  1.22trial/s, best loss: 0.4740990990990991]\n",
      "Best:  {'colsample_bytree': 0.8500000000000001, 'gamma': 0.2, 'learning_rate': 0.09, 'max_depth': 5, 'min_child_weight': 5.0, 'n_estimators': 4, 'reg_alpha': 2, 'subsample': 0.65}\n"
     ]
    }
   ],
   "source": [
    "def objective(space):\n",
    "\n",
    "    warnings.filterwarnings(action='ignore', category=DeprecationWarning)\n",
    "    classifier = xgb.XGBClassifier(n_estimators = space['n_estimators'],\n",
    "                            max_depth = int(space['max_depth']),\n",
    "                            learning_rate = space['learning_rate'],\n",
    "                            gamma = space['gamma'],\n",
    "                            min_child_weight = space['min_child_weight'],\n",
    "                            subsample = space['subsample'],\n",
    "                            colsample_bytree = space['colsample_bytree']\n",
    "                            )\n",
    "    \n",
    "    classifier.fit(X_train, y_train)\n",
    "\n",
    "    # Applying k-Fold Cross Validation\n",
    "    from sklearn.model_selection import cross_val_score\n",
    "    accuracies = cross_val_score(estimator = classifier, X = X_train, y = y_train, cv = 3)\n",
    "    CrossValMean = accuracies.mean()\n",
    "\n",
    "    print(\"CrossValMean:\", CrossValMean)\n",
    "\n",
    "    return{'loss':1-CrossValMean, 'status': STATUS_OK }\n",
    "\n",
    "\n",
    "trials = Trials()\n",
    "best = fmin(fn=objective,\n",
    "            space=space,\n",
    "            algo=tpe.suggest,\n",
    "            max_evals=100,\n",
    "            trials=trials)\n",
    "print(\"Best: \", best)"
   ]
  },
  {
   "cell_type": "code",
   "execution_count": 52,
   "metadata": {},
   "outputs": [
    {
     "name": "stdout",
     "output_type": "stream",
     "text": [
      "Final CrossValMean:  0.48424109693391737\n"
     ]
    }
   ],
   "source": [
    "# Fitting XGBoost to the Training set\n",
    "\n",
    "classifier = XGBClassifier(n_estimators = best['n_estimators'],\n",
    "                            max_depth = best['max_depth'],\n",
    "                            learning_rate = best['learning_rate'],\n",
    "                            gamma = best['gamma'],\n",
    "                            min_child_weight = best['min_child_weight'],\n",
    "                            subsample = best['subsample'],\n",
    "                            colsample_bytree = best['colsample_bytree']\n",
    "                            )\n",
    "\n",
    "classifier.fit(X_train, y_train)\n",
    "\n",
    "# Applying k-Fold Cross Validation\n",
    "from sklearn.model_selection import cross_val_score\n",
    "accuracies = cross_val_score(estimator = classifier, X = X_train, y = y_train, cv = 10)\n",
    "CrossValMean = accuracies.mean()\n",
    "print(\"Final CrossValMean: \", CrossValMean)\n"
   ]
  },
  {
   "cell_type": "code",
   "execution_count": 53,
   "metadata": {},
   "outputs": [],
   "source": [
    "CrossValSTD = accuracies.std()\n",
    "\n",
    "# Predicting the Test set results\n",
    "y_pred = classifier.predict(X_test)"
   ]
  },
  {
   "cell_type": "code",
   "execution_count": 54,
   "metadata": {},
   "outputs": [
    {
     "name": "stdout",
     "output_type": "stream",
     "text": [
      "[[249 321]\n",
      " [259 356]]\n"
     ]
    }
   ],
   "source": [
    "cm = confusion_matrix(y_test,y_pred)\n",
    "print(cm)"
   ]
  },
  {
   "cell_type": "code",
   "execution_count": 55,
   "metadata": {},
   "outputs": [
    {
     "name": "stdout",
     "output_type": "stream",
     "text": [
      "Accuracy: 51.0548523206751 %\n"
     ]
    }
   ],
   "source": [
    "from sklearn.metrics import accuracy_score\n",
    "print(f'Accuracy: {100*accuracy_score(y_test, y_pred)} %')"
   ]
  },
  {
   "cell_type": "markdown",
   "metadata": {},
   "source": [
    "### Stacking 1\n",
    "\n",
    "https://machinelearningmastery.com/stacking-ensemble-machine-learning-with-python/"
   ]
  },
  {
   "cell_type": "code",
   "execution_count": 56,
   "metadata": {},
   "outputs": [],
   "source": [
    "# get a stacking ensemble of models\n",
    "def get_stacking():\n",
    "    # define the base models\n",
    "    level0 = list()\n",
    "    level0.append(('LR', LogisticRegression()))\n",
    "#    level0.append(('KNN', KNeighborsClassifier(n_neighbors = 50)))\n",
    "#    level0.append(('Tree', DecisionTreeClassifier()))\n",
    "#    level0.append(('svm', SVC()))\n",
    "#    level0.append(('bayes', GaussianNB()))\n",
    "    level0.append(('LDA', LinearDiscriminantAnalysis()))\n",
    "#    level0.append(('QDA', QuadraticDiscriminantAnalysis()))\n",
    "    # define meta learner model\n",
    "    level1 = LinearDiscriminantAnalysis()\n",
    "    \n",
    "    # define the stacking ensemble\n",
    "    model = StackingClassifier(estimators=level0, final_estimator=level1, cv=5)\n",
    "    return model\n",
    "\n",
    "# get a list of models to evaluate\n",
    "def get_models():\n",
    "    models = dict()\n",
    "    models['LR'] = LogisticRegression()\n",
    "#    models['KNN'] = KNeighborsClassifier()\n",
    "#    models['Tree'] = DecisionTreeClassifier()\n",
    "#    models['SVM'] = SVC()\n",
    "#    models['Bayes'] = GaussianNB()\n",
    "#    models['QDA'] = QuadraticDiscriminantAnalysis()\n",
    "    models['LDA'] = LinearDiscriminantAnalysis()\n",
    "    models['stacking'] = get_stacking()\n",
    "    return models\n",
    "\n",
    "# evaluate a given model using cross-validation\n",
    "def evaluate_model(model):\n",
    "    cv = RepeatedStratifiedKFold(n_splits=10, n_repeats=3, random_state=1)\n",
    "    scores = cross_val_score(model, X_train, y_train, scoring='accuracy', cv=cv, n_jobs=-1, error_score='raise')\n",
    "    \n",
    "    return scores"
   ]
  },
  {
   "cell_type": "code",
   "execution_count": 57,
   "metadata": {},
   "outputs": [
    {
     "ename": "TypeError",
     "evalue": "'numpy.ndarray' object is not callable",
     "output_type": "error",
     "traceback": [
      "\u001b[1;31m---------------------------------------------------------------------------\u001b[0m",
      "\u001b[1;31mTypeError\u001b[0m                                 Traceback (most recent call last)",
      "\u001b[1;32m<ipython-input-57-bf28e907537d>\u001b[0m in \u001b[0;36m<module>\u001b[1;34m\u001b[0m\n\u001b[0;32m      6\u001b[0m     \u001b[0mresults\u001b[0m\u001b[1;33m.\u001b[0m\u001b[0mappend\u001b[0m\u001b[1;33m(\u001b[0m\u001b[0mscores\u001b[0m\u001b[1;33m)\u001b[0m\u001b[1;33m\u001b[0m\u001b[1;33m\u001b[0m\u001b[0m\n\u001b[0;32m      7\u001b[0m     \u001b[0mnames\u001b[0m\u001b[1;33m.\u001b[0m\u001b[0mappend\u001b[0m\u001b[1;33m(\u001b[0m\u001b[0mname\u001b[0m\u001b[1;33m)\u001b[0m\u001b[1;33m\u001b[0m\u001b[1;33m\u001b[0m\u001b[0m\n\u001b[1;32m----> 8\u001b[1;33m     \u001b[0mprint\u001b[0m\u001b[1;33m(\u001b[0m\u001b[1;34m'> %s %.3f (%.3f)'\u001b[0m \u001b[1;33m%\u001b[0m \u001b[1;33m(\u001b[0m\u001b[0mname\u001b[0m\u001b[1;33m,\u001b[0m \u001b[0mmean\u001b[0m\u001b[1;33m(\u001b[0m\u001b[0mscores\u001b[0m\u001b[1;33m)\u001b[0m\u001b[1;33m,\u001b[0m \u001b[0mstd\u001b[0m\u001b[1;33m(\u001b[0m\u001b[0mscores\u001b[0m\u001b[1;33m)\u001b[0m\u001b[1;33m)\u001b[0m\u001b[1;33m)\u001b[0m\u001b[1;33m\u001b[0m\u001b[1;33m\u001b[0m\u001b[0m\n\u001b[0m\u001b[0;32m      9\u001b[0m \u001b[1;33m\u001b[0m\u001b[0m\n\u001b[0;32m     10\u001b[0m     \u001b[0mmodel\u001b[0m\u001b[1;33m.\u001b[0m\u001b[0mfit\u001b[0m\u001b[1;33m(\u001b[0m\u001b[0mX_train\u001b[0m\u001b[1;33m,\u001b[0m \u001b[0my_train\u001b[0m\u001b[1;33m)\u001b[0m\u001b[1;33m\u001b[0m\u001b[1;33m\u001b[0m\u001b[0m\n",
      "\u001b[1;31mTypeError\u001b[0m: 'numpy.ndarray' object is not callable"
     ]
    }
   ],
   "source": [
    "models = get_models()\n",
    "\n",
    "results, names = list(), list()\n",
    "for name, model in models.items():\n",
    "    scores = evaluate_model(model)\n",
    "    results.append(scores)\n",
    "    names.append(name)\n",
    "    print('> %s %.3f (%.3f)' % (name, mean(scores), std(scores)))\n",
    "    \n",
    "    model.fit(X_train, y_train)\n",
    "    model.predict(X_test)\n",
    "    print(f'Accuracy of {name} classifier on test set: {100*model.score(X_test, y_test)} %')\n",
    "    print()"
   ]
  },
  {
   "cell_type": "code",
   "execution_count": null,
   "metadata": {},
   "outputs": [],
   "source": []
  },
  {
   "cell_type": "code",
   "execution_count": null,
   "metadata": {},
   "outputs": [],
   "source": []
  }
 ],
 "metadata": {
  "kernelspec": {
   "display_name": "Python 3",
   "language": "python",
   "name": "python3"
  },
  "language_info": {
   "codemirror_mode": {
    "name": "ipython",
    "version": 3
   },
   "file_extension": ".py",
   "mimetype": "text/x-python",
   "name": "python",
   "nbconvert_exporter": "python",
   "pygments_lexer": "ipython3",
   "version": "3.7.6"
  }
 },
 "nbformat": 4,
 "nbformat_minor": 4
}
